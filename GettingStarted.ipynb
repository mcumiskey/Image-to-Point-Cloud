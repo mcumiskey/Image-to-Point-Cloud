{
 "cells": [
  {
   "cell_type": "markdown",
   "metadata": {},
   "source": [
    "# Making Cool Visualizations from Images\n",
    "\n"
   ]
  },
  {
   "cell_type": "markdown",
   "metadata": {},
   "source": [
    "## Imports\n"
   ]
  },
  {
   "cell_type": "code",
   "execution_count": 1,
   "metadata": {},
   "outputs": [],
   "source": [
    "import pandas as pd\n",
    "import plotly.express as px\n",
    "from PIL import Image"
   ]
  },
  {
   "cell_type": "markdown",
   "metadata": {},
   "source": [
    "Pandas is an all-purpose package for working with tables. \n",
    "\n",
    "PIL (Python Image Library, otherwise known as Pillow) allows us to manipulate images.\n",
    "\n",
    "Plotly is my favorite chart-builder for python. MatplotLib and Seaborn work just as well! It is here to visualize our data before we bring it into Tableau. "
   ]
  },
  {
   "cell_type": "code",
   "execution_count": 21,
   "metadata": {},
   "outputs": [
    {
     "data": {
      "application/vnd.plotly.v1+json": {
       "config": {
        "plotlyServerURL": "https://plot.ly"
       },
       "data": [
        {
         "fill": "toself",
         "fillcolor": "#4E79C5",
         "hoverinfo": "skip",
         "line": {
          "color": "black"
         },
         "mode": "lines",
         "type": "scatter",
         "x": {
          "bdata": "AAAAAAAASUACAAAAAAA5QP3//////zjAAAAAAAAAScAGAAAAAAA5wPf//////zhAAAAAAAAASUA=",
          "dtype": "f8"
         },
         "y": {
          "bdata": "AAAAAAAAAADl+4QFkKZFQOb7hAWQpkVAy8/Pr5uT+zzk+4QFkKZFwOj7hAWQpkXAy8/Pr5uTC70=",
          "dtype": "f8"
         }
        },
        {
         "fill": "toself",
         "fillcolor": "#60AB9E",
         "hoverinfo": "skip",
         "line": {
          "color": "black"
         },
         "mode": "lines",
         "type": "scatter",
         "x": {
          "bdata": "AAAAAADgYEAAAAAAAIBbQAIAAAAAAE5AAAAAAACAQUD9//////9NQP7/////f1tAAAAAAADgYEA=",
          "dtype": "f8"
         },
         "y": {
          "bdata": "5fuEBZCmRUDl+4QFkKZVQOb7hAWQplVA5vuEBZCmRUAAAAAAAAAAPQAAAAAAABi94/uEBZCmRUA=",
          "dtype": "f8"
         }
        },
        {
         "fill": "toself",
         "fillcolor": "#69B190",
         "hoverinfo": "skip",
         "line": {
          "color": "black"
         },
         "mode": "lines",
         "type": "scatter",
         "x": {
          "bdata": "AAAAAACAa0AAAAAAAGBoQAAAAAAAIGJAAAAAAAAAXkD//////x9iQP//////X2hAAAAAAACAa0A=",
          "dtype": "f8"
         },
         "y": {
          "bdata": "AAAAAAAAAADl+4QFkKZFQOb7hAWQpkVAy8/Pr5uT+zzk+4QFkKZFwOj7hAWQpkXAy8/Pr5uTC70=",
          "dtype": "f8"
         }
        },
        {
         "fill": "toself",
         "fillcolor": "#77B77D",
         "hoverinfo": "skip",
         "line": {
          "color": "black"
         },
         "mode": "lines",
         "type": "scatter",
         "x": {
          "bdata": "AAAAAAAQc0AAAAAAAIBxQAAAAAAAwGxAAAAAAACgaUD//////79sQP//////f3FAAAAAAAAQc0A=",
          "dtype": "f8"
         },
         "y": {
          "bdata": "5fuEBZCmRUDl+4QFkKZVQOb7hAWQplVA5vuEBZCmRUAAAAAAAAAAPQAAAAAAABi94/uEBZCmRUA=",
          "dtype": "f8"
         }
        },
        {
         "fill": "toself",
         "fillcolor": "#8CBC68",
         "hoverinfo": "skip",
         "line": {
          "color": "black"
         },
         "mode": "lines",
         "type": "scatter",
         "x": {
          "bdata": "AAAAAABgeEAAAAAAANB2QAAAAAAAsHNAAAAAAAAgckAAAAAAALBzQP//////z3ZAAAAAAABgeEA=",
          "dtype": "f8"
         },
         "y": {
          "bdata": "AAAAAAAAAADl+4QFkKZFQOb7hAWQpkVAy8/Pr5uT+zzk+4QFkKZFwOj7hAWQpkXAy8/Pr5uTC70=",
          "dtype": "f8"
         }
        },
        {
         "fill": "toself",
         "fillcolor": "#A6BE54",
         "hoverinfo": "skip",
         "line": {
          "color": "black"
         },
         "mode": "lines",
         "type": "scatter",
         "x": {
          "bdata": "AAAAAACwfUAAAAAAACB8QAAAAAAAAHlAAAAAAABwd0AAAAAAAAB5QP//////H3xAAAAAAACwfUA=",
          "dtype": "f8"
         },
         "y": {
          "bdata": "5fuEBZCmRUDl+4QFkKZVQOb7hAWQplVA5vuEBZCmRUAAAAAAAAAAPQAAAAAAABi94/uEBZCmRUA=",
          "dtype": "f8"
         }
        },
        {
         "fill": "toself",
         "fillcolor": "#BEBC48",
         "hoverinfo": "skip",
         "line": {
          "color": "black"
         },
         "mode": "lines",
         "type": "scatter",
         "x": {
          "bdata": "AAAAAACAgUAAAAAAALiAQAAAAAAAUH5AAAAAAADAfEAAAAAAAFB+QAAAAAAAuIBAAAAAAACAgUA=",
          "dtype": "f8"
         },
         "y": {
          "bdata": "AAAAAAAAAADl+4QFkKZFQOb7hAWQpkVAy8/Pr5uT+zzk+4QFkKZFwOj7hAWQpkXAy8/Pr5uTC70=",
          "dtype": "f8"
         }
        },
        {
         "fill": "toself",
         "fillcolor": "#D1B541",
         "hoverinfo": "skip",
         "line": {
          "color": "black"
         },
         "mode": "lines",
         "type": "scatter",
         "x": {
          "bdata": "AAAAAAAohEAAAAAAAGCDQAAAAAAA0IFAAAAAAAAIgUAAAAAAANCBQAAAAAAAYINAAAAAAAAohEA=",
          "dtype": "f8"
         },
         "y": {
          "bdata": "5fuEBZCmRUDl+4QFkKZVQOb7hAWQplVA5vuEBZCmRUAAAAAAAAAAPQAAAAAAABi94/uEBZCmRUA=",
          "dtype": "f8"
         }
        },
        {
         "fill": "toself",
         "fillcolor": "#DDAA3C",
         "hoverinfo": "skip",
         "line": {
          "color": "black"
         },
         "mode": "lines",
         "type": "scatter",
         "x": {
          "bdata": "AAAAAADQhkAAAAAAAAiGQAAAAAAAeIRAAAAAAACwg0AAAAAAAHiEQAAAAAAACIZAAAAAAADQhkA=",
          "dtype": "f8"
         },
         "y": {
          "bdata": "AAAAAAAAAADl+4QFkKZFQOb7hAWQpkVAy8/Pr5uT+zzk+4QFkKZFwOj7hAWQpkXAy8/Pr5uTC70=",
          "dtype": "f8"
         }
        },
        {
         "fill": "toself",
         "fillcolor": "#E49C39",
         "hoverinfo": "skip",
         "line": {
          "color": "black"
         },
         "mode": "lines",
         "type": "scatter",
         "x": {
          "bdata": "AAAAAAB4iUAAAAAAALCIQAAAAAAAIIdAAAAAAABYhkAAAAAAACCHQAAAAAAAsIhAAAAAAAB4iUA=",
          "dtype": "f8"
         },
         "y": {
          "bdata": "5fuEBZCmRUDl+4QFkKZVQOb7hAWQplVA5vuEBZCmRUAAAAAAAAAAPQAAAAAAABi94/uEBZCmRUA=",
          "dtype": "f8"
         }
        },
        {
         "fill": "toself",
         "fillcolor": "#E78C35",
         "hoverinfo": "skip",
         "line": {
          "color": "black"
         },
         "mode": "lines",
         "type": "scatter",
         "x": {
          "bdata": "AAAAAAAgjEAAAAAAAFiLQAAAAAAAyIlAAAAAAAAAiUAAAAAAAMiJQAAAAAAAWItAAAAAAAAgjEA=",
          "dtype": "f8"
         },
         "y": {
          "bdata": "AAAAAAAAAADl+4QFkKZFQOb7hAWQpkVAy8/Pr5uT+zzk+4QFkKZFwOj7hAWQpkXAy8/Pr5uTC70=",
          "dtype": "f8"
         }
        },
        {
         "fill": "toself",
         "fillcolor": "#E67932",
         "hoverinfo": "skip",
         "line": {
          "color": "black"
         },
         "mode": "lines",
         "type": "scatter",
         "x": {
          "bdata": "AAAAAADIjkAAAAAAAACOQAAAAAAAcIxAAAAAAACoi0AAAAAAAHCMQAAAAAAAAI5AAAAAAADIjkA=",
          "dtype": "f8"
         },
         "y": {
          "bdata": "5fuEBZCmRUDl+4QFkKZVQOb7hAWQplVA5vuEBZCmRUAAAAAAAAAAPQAAAAAAABi94/uEBZCmRUA=",
          "dtype": "f8"
         }
        },
        {
         "fill": "toself",
         "fillcolor": "#E4632D",
         "hoverinfo": "skip",
         "line": {
          "color": "black"
         },
         "mode": "lines",
         "type": "scatter",
         "x": {
          "bdata": "AAAAAAC4kEAAAAAAAFSQQAAAAAAAGI9AAAAAAABQjkAAAAAAABiPQAAAAAAAVJBAAAAAAAC4kEA=",
          "dtype": "f8"
         },
         "y": {
          "bdata": "AAAAAAAAAADl+4QFkKZFQOb7hAWQpkVAy8/Pr5uT+zzk+4QFkKZFwOj7hAWQpkXAy8/Pr5uTC70=",
          "dtype": "f8"
         }
        },
        {
         "fill": "toself",
         "fillcolor": "#DF4828",
         "hoverinfo": "skip",
         "line": {
          "color": "black"
         },
         "mode": "lines",
         "type": "scatter",
         "x": {
          "bdata": "AAAAAAAMkkAAAAAAAKiRQAAAAAAA4JBAAAAAAAB8kEAAAAAAAOCQQAAAAAAAqJFAAAAAAAAMkkA=",
          "dtype": "f8"
         },
         "y": {
          "bdata": "5fuEBZCmRUDl+4QFkKZVQOb7hAWQplVA5vuEBZCmRUAAAAAAAAAAPQAAAAAAABi94/uEBZCmRUA=",
          "dtype": "f8"
         }
        },
        {
         "fill": "toself",
         "fillcolor": "#DA2222",
         "hoverinfo": "skip",
         "line": {
          "color": "black"
         },
         "mode": "lines",
         "type": "scatter",
         "x": {
          "bdata": "AAAAAABgk0AAAAAAAPySQAAAAAAANJJAAAAAAADQkUAAAAAAADSSQAAAAAAA/JJAAAAAAABgk0A=",
          "dtype": "f8"
         },
         "y": {
          "bdata": "AAAAAAAAAADl+4QFkKZFQOb7hAWQpkVAy8/Pr5uT+zzk+4QFkKZFwOj7hAWQpkXAy8/Pr5uTC70=",
          "dtype": "f8"
         }
        },
        {
         "fill": "toself",
         "fillcolor": "#B8221E",
         "hoverinfo": "skip",
         "line": {
          "color": "black"
         },
         "mode": "lines",
         "type": "scatter",
         "x": {
          "bdata": "AAAAAAC0lEAAAAAAAFCUQAAAAAAAiJNAAAAAAAAkk0AAAAAAAIiTQAAAAAAAUJRAAAAAAAC0lEA=",
          "dtype": "f8"
         },
         "y": {
          "bdata": "5fuEBZCmRUDl+4QFkKZVQOb7hAWQplVA5vuEBZCmRUAAAAAAAAAAPQAAAAAAABi94/uEBZCmRUA=",
          "dtype": "f8"
         }
        },
        {
         "fill": "toself",
         "fillcolor": "#95211B",
         "hoverinfo": "skip",
         "line": {
          "color": "black"
         },
         "mode": "lines",
         "type": "scatter",
         "x": {
          "bdata": "AAAAAAAIlkAAAAAAAKSVQAAAAAAA3JRAAAAAAAB4lEAAAAAAANyUQAAAAAAApJVAAAAAAAAIlkA=",
          "dtype": "f8"
         },
         "y": {
          "bdata": "AAAAAAAAAADl+4QFkKZFQOb7hAWQpkVAy8/Pr5uT+zzk+4QFkKZFwOj7hAWQpkXAy8/Pr5uTC70=",
          "dtype": "f8"
         }
        },
        {
         "fill": "toself",
         "fillcolor": "#721E17",
         "hoverinfo": "skip",
         "line": {
          "color": "black"
         },
         "mode": "lines",
         "type": "scatter",
         "x": {
          "bdata": "AAAAAABcl0AAAAAAAPiWQAAAAAAAMJZAAAAAAADMlUAAAAAAADCWQAAAAAAA+JZAAAAAAABcl0A=",
          "dtype": "f8"
         },
         "y": {
          "bdata": "5fuEBZCmRUDl+4QFkKZVQOb7hAWQplVA5vuEBZCmRUAAAAAAAAAAPQAAAAAAABi94/uEBZCmRUA=",
          "dtype": "f8"
         }
        },
        {
         "fill": "toself",
         "fillcolor": "#521A13",
         "hoverinfo": "skip",
         "line": {
          "color": "black"
         },
         "mode": "lines",
         "type": "scatter",
         "x": {
          "bdata": "AAAAAACwmEAAAAAAAEyYQAAAAAAAhJdAAAAAAAAgl0AAAAAAAISXQAAAAAAATJhAAAAAAACwmEA=",
          "dtype": "f8"
         },
         "y": {
          "bdata": "AAAAAAAAAADl+4QFkKZFQOb7hAWQpkVAy8/Pr5uT+zzk+4QFkKZFwOj7hAWQpkXAy8/Pr5uTC70=",
          "dtype": "f8"
         }
        }
       ],
       "layout": {
        "height": 136,
        "margin": {
         "b": 0,
         "l": 0,
         "r": 0,
         "t": 0
        },
        "plot_bgcolor": "white",
        "showlegend": false,
        "template": {
         "data": {
          "bar": [
           {
            "error_x": {
             "color": "#2a3f5f"
            },
            "error_y": {
             "color": "#2a3f5f"
            },
            "marker": {
             "line": {
              "color": "#E5ECF6",
              "width": 0.5
             },
             "pattern": {
              "fillmode": "overlay",
              "size": 10,
              "solidity": 0.2
             }
            },
            "type": "bar"
           }
          ],
          "barpolar": [
           {
            "marker": {
             "line": {
              "color": "#E5ECF6",
              "width": 0.5
             },
             "pattern": {
              "fillmode": "overlay",
              "size": 10,
              "solidity": 0.2
             }
            },
            "type": "barpolar"
           }
          ],
          "carpet": [
           {
            "aaxis": {
             "endlinecolor": "#2a3f5f",
             "gridcolor": "white",
             "linecolor": "white",
             "minorgridcolor": "white",
             "startlinecolor": "#2a3f5f"
            },
            "baxis": {
             "endlinecolor": "#2a3f5f",
             "gridcolor": "white",
             "linecolor": "white",
             "minorgridcolor": "white",
             "startlinecolor": "#2a3f5f"
            },
            "type": "carpet"
           }
          ],
          "choropleth": [
           {
            "colorbar": {
             "outlinewidth": 0,
             "ticks": ""
            },
            "type": "choropleth"
           }
          ],
          "contour": [
           {
            "colorbar": {
             "outlinewidth": 0,
             "ticks": ""
            },
            "colorscale": [
             [
              0,
              "#0d0887"
             ],
             [
              0.1111111111111111,
              "#46039f"
             ],
             [
              0.2222222222222222,
              "#7201a8"
             ],
             [
              0.3333333333333333,
              "#9c179e"
             ],
             [
              0.4444444444444444,
              "#bd3786"
             ],
             [
              0.5555555555555556,
              "#d8576b"
             ],
             [
              0.6666666666666666,
              "#ed7953"
             ],
             [
              0.7777777777777778,
              "#fb9f3a"
             ],
             [
              0.8888888888888888,
              "#fdca26"
             ],
             [
              1,
              "#f0f921"
             ]
            ],
            "type": "contour"
           }
          ],
          "contourcarpet": [
           {
            "colorbar": {
             "outlinewidth": 0,
             "ticks": ""
            },
            "type": "contourcarpet"
           }
          ],
          "heatmap": [
           {
            "colorbar": {
             "outlinewidth": 0,
             "ticks": ""
            },
            "colorscale": [
             [
              0,
              "#0d0887"
             ],
             [
              0.1111111111111111,
              "#46039f"
             ],
             [
              0.2222222222222222,
              "#7201a8"
             ],
             [
              0.3333333333333333,
              "#9c179e"
             ],
             [
              0.4444444444444444,
              "#bd3786"
             ],
             [
              0.5555555555555556,
              "#d8576b"
             ],
             [
              0.6666666666666666,
              "#ed7953"
             ],
             [
              0.7777777777777778,
              "#fb9f3a"
             ],
             [
              0.8888888888888888,
              "#fdca26"
             ],
             [
              1,
              "#f0f921"
             ]
            ],
            "type": "heatmap"
           }
          ],
          "histogram": [
           {
            "marker": {
             "pattern": {
              "fillmode": "overlay",
              "size": 10,
              "solidity": 0.2
             }
            },
            "type": "histogram"
           }
          ],
          "histogram2d": [
           {
            "colorbar": {
             "outlinewidth": 0,
             "ticks": ""
            },
            "colorscale": [
             [
              0,
              "#0d0887"
             ],
             [
              0.1111111111111111,
              "#46039f"
             ],
             [
              0.2222222222222222,
              "#7201a8"
             ],
             [
              0.3333333333333333,
              "#9c179e"
             ],
             [
              0.4444444444444444,
              "#bd3786"
             ],
             [
              0.5555555555555556,
              "#d8576b"
             ],
             [
              0.6666666666666666,
              "#ed7953"
             ],
             [
              0.7777777777777778,
              "#fb9f3a"
             ],
             [
              0.8888888888888888,
              "#fdca26"
             ],
             [
              1,
              "#f0f921"
             ]
            ],
            "type": "histogram2d"
           }
          ],
          "histogram2dcontour": [
           {
            "colorbar": {
             "outlinewidth": 0,
             "ticks": ""
            },
            "colorscale": [
             [
              0,
              "#0d0887"
             ],
             [
              0.1111111111111111,
              "#46039f"
             ],
             [
              0.2222222222222222,
              "#7201a8"
             ],
             [
              0.3333333333333333,
              "#9c179e"
             ],
             [
              0.4444444444444444,
              "#bd3786"
             ],
             [
              0.5555555555555556,
              "#d8576b"
             ],
             [
              0.6666666666666666,
              "#ed7953"
             ],
             [
              0.7777777777777778,
              "#fb9f3a"
             ],
             [
              0.8888888888888888,
              "#fdca26"
             ],
             [
              1,
              "#f0f921"
             ]
            ],
            "type": "histogram2dcontour"
           }
          ],
          "mesh3d": [
           {
            "colorbar": {
             "outlinewidth": 0,
             "ticks": ""
            },
            "type": "mesh3d"
           }
          ],
          "parcoords": [
           {
            "line": {
             "colorbar": {
              "outlinewidth": 0,
              "ticks": ""
             }
            },
            "type": "parcoords"
           }
          ],
          "pie": [
           {
            "automargin": true,
            "type": "pie"
           }
          ],
          "scatter": [
           {
            "fillpattern": {
             "fillmode": "overlay",
             "size": 10,
             "solidity": 0.2
            },
            "type": "scatter"
           }
          ],
          "scatter3d": [
           {
            "line": {
             "colorbar": {
              "outlinewidth": 0,
              "ticks": ""
             }
            },
            "marker": {
             "colorbar": {
              "outlinewidth": 0,
              "ticks": ""
             }
            },
            "type": "scatter3d"
           }
          ],
          "scattercarpet": [
           {
            "marker": {
             "colorbar": {
              "outlinewidth": 0,
              "ticks": ""
             }
            },
            "type": "scattercarpet"
           }
          ],
          "scattergeo": [
           {
            "marker": {
             "colorbar": {
              "outlinewidth": 0,
              "ticks": ""
             }
            },
            "type": "scattergeo"
           }
          ],
          "scattergl": [
           {
            "marker": {
             "colorbar": {
              "outlinewidth": 0,
              "ticks": ""
             }
            },
            "type": "scattergl"
           }
          ],
          "scattermap": [
           {
            "marker": {
             "colorbar": {
              "outlinewidth": 0,
              "ticks": ""
             }
            },
            "type": "scattermap"
           }
          ],
          "scattermapbox": [
           {
            "marker": {
             "colorbar": {
              "outlinewidth": 0,
              "ticks": ""
             }
            },
            "type": "scattermapbox"
           }
          ],
          "scatterpolar": [
           {
            "marker": {
             "colorbar": {
              "outlinewidth": 0,
              "ticks": ""
             }
            },
            "type": "scatterpolar"
           }
          ],
          "scatterpolargl": [
           {
            "marker": {
             "colorbar": {
              "outlinewidth": 0,
              "ticks": ""
             }
            },
            "type": "scatterpolargl"
           }
          ],
          "scatterternary": [
           {
            "marker": {
             "colorbar": {
              "outlinewidth": 0,
              "ticks": ""
             }
            },
            "type": "scatterternary"
           }
          ],
          "surface": [
           {
            "colorbar": {
             "outlinewidth": 0,
             "ticks": ""
            },
            "colorscale": [
             [
              0,
              "#0d0887"
             ],
             [
              0.1111111111111111,
              "#46039f"
             ],
             [
              0.2222222222222222,
              "#7201a8"
             ],
             [
              0.3333333333333333,
              "#9c179e"
             ],
             [
              0.4444444444444444,
              "#bd3786"
             ],
             [
              0.5555555555555556,
              "#d8576b"
             ],
             [
              0.6666666666666666,
              "#ed7953"
             ],
             [
              0.7777777777777778,
              "#fb9f3a"
             ],
             [
              0.8888888888888888,
              "#fdca26"
             ],
             [
              1,
              "#f0f921"
             ]
            ],
            "type": "surface"
           }
          ],
          "table": [
           {
            "cells": {
             "fill": {
              "color": "#EBF0F8"
             },
             "line": {
              "color": "white"
             }
            },
            "header": {
             "fill": {
              "color": "#C8D4E3"
             },
             "line": {
              "color": "white"
             }
            },
            "type": "table"
           }
          ]
         },
         "layout": {
          "annotationdefaults": {
           "arrowcolor": "#2a3f5f",
           "arrowhead": 0,
           "arrowwidth": 1
          },
          "autotypenumbers": "strict",
          "coloraxis": {
           "colorbar": {
            "outlinewidth": 0,
            "ticks": ""
           }
          },
          "colorscale": {
           "diverging": [
            [
             0,
             "#8e0152"
            ],
            [
             0.1,
             "#c51b7d"
            ],
            [
             0.2,
             "#de77ae"
            ],
            [
             0.3,
             "#f1b6da"
            ],
            [
             0.4,
             "#fde0ef"
            ],
            [
             0.5,
             "#f7f7f7"
            ],
            [
             0.6,
             "#e6f5d0"
            ],
            [
             0.7,
             "#b8e186"
            ],
            [
             0.8,
             "#7fbc41"
            ],
            [
             0.9,
             "#4d9221"
            ],
            [
             1,
             "#276419"
            ]
           ],
           "sequential": [
            [
             0,
             "#0d0887"
            ],
            [
             0.1111111111111111,
             "#46039f"
            ],
            [
             0.2222222222222222,
             "#7201a8"
            ],
            [
             0.3333333333333333,
             "#9c179e"
            ],
            [
             0.4444444444444444,
             "#bd3786"
            ],
            [
             0.5555555555555556,
             "#d8576b"
            ],
            [
             0.6666666666666666,
             "#ed7953"
            ],
            [
             0.7777777777777778,
             "#fb9f3a"
            ],
            [
             0.8888888888888888,
             "#fdca26"
            ],
            [
             1,
             "#f0f921"
            ]
           ],
           "sequentialminus": [
            [
             0,
             "#0d0887"
            ],
            [
             0.1111111111111111,
             "#46039f"
            ],
            [
             0.2222222222222222,
             "#7201a8"
            ],
            [
             0.3333333333333333,
             "#9c179e"
            ],
            [
             0.4444444444444444,
             "#bd3786"
            ],
            [
             0.5555555555555556,
             "#d8576b"
            ],
            [
             0.6666666666666666,
             "#ed7953"
            ],
            [
             0.7777777777777778,
             "#fb9f3a"
            ],
            [
             0.8888888888888888,
             "#fdca26"
            ],
            [
             1,
             "#f0f921"
            ]
           ]
          },
          "colorway": [
           "#636efa",
           "#EF553B",
           "#00cc96",
           "#ab63fa",
           "#FFA15A",
           "#19d3f3",
           "#FF6692",
           "#B6E880",
           "#FF97FF",
           "#FECB52"
          ],
          "font": {
           "color": "#2a3f5f"
          },
          "geo": {
           "bgcolor": "white",
           "lakecolor": "white",
           "landcolor": "#E5ECF6",
           "showlakes": true,
           "showland": true,
           "subunitcolor": "white"
          },
          "hoverlabel": {
           "align": "left"
          },
          "hovermode": "closest",
          "mapbox": {
           "style": "light"
          },
          "paper_bgcolor": "white",
          "plot_bgcolor": "#E5ECF6",
          "polar": {
           "angularaxis": {
            "gridcolor": "white",
            "linecolor": "white",
            "ticks": ""
           },
           "bgcolor": "#E5ECF6",
           "radialaxis": {
            "gridcolor": "white",
            "linecolor": "white",
            "ticks": ""
           }
          },
          "scene": {
           "xaxis": {
            "backgroundcolor": "#E5ECF6",
            "gridcolor": "white",
            "gridwidth": 2,
            "linecolor": "white",
            "showbackground": true,
            "ticks": "",
            "zerolinecolor": "white"
           },
           "yaxis": {
            "backgroundcolor": "#E5ECF6",
            "gridcolor": "white",
            "gridwidth": 2,
            "linecolor": "white",
            "showbackground": true,
            "ticks": "",
            "zerolinecolor": "white"
           },
           "zaxis": {
            "backgroundcolor": "#E5ECF6",
            "gridcolor": "white",
            "gridwidth": 2,
            "linecolor": "white",
            "showbackground": true,
            "ticks": "",
            "zerolinecolor": "white"
           }
          },
          "shapedefaults": {
           "line": {
            "color": "#2a3f5f"
           }
          },
          "ternary": {
           "aaxis": {
            "gridcolor": "white",
            "linecolor": "white",
            "ticks": ""
           },
           "baxis": {
            "gridcolor": "white",
            "linecolor": "white",
            "ticks": ""
           },
           "bgcolor": "#E5ECF6",
           "caxis": {
            "gridcolor": "white",
            "linecolor": "white",
            "ticks": ""
           }
          },
          "title": {
           "x": 0.05
          },
          "xaxis": {
           "automargin": true,
           "gridcolor": "white",
           "linecolor": "white",
           "ticks": "",
           "title": {
            "standoff": 15
           },
           "zerolinecolor": "white",
           "zerolinewidth": 2
          },
          "yaxis": {
           "automargin": true,
           "gridcolor": "white",
           "linecolor": "white",
           "ticks": "",
           "title": {
            "standoff": 15
           },
           "zerolinecolor": "white",
           "zerolinewidth": 2
          }
         }
        },
        "width": 1615,
        "xaxis": {
         "visible": false
        },
        "yaxis": {
         "scaleanchor": "x",
         "visible": false
        }
       }
      }
     },
     "metadata": {},
     "output_type": "display_data"
    }
   ],
   "source": [
    "\n",
    "import plotly.graph_objects as go\n",
    "import numpy as np\n",
    "\n",
    "def hexagon_points(center_x, center_y, size):\n",
    "    \"\"\"Generate the x, y coordinates of a hexagon centered at (center_x, center_y).\"\"\"\n",
    "    angles = np.linspace(0, 2 * np.pi, 7)\n",
    "    x = center_x + size * np.cos(angles)\n",
    "    y = center_y + size * np.sin(angles)\n",
    "    return x, y\n",
    "\n",
    "def plot_interlocking_hex_palette(hex_colors, hex_size=50, spacing=10):\n",
    "    fig = go.Figure()\n",
    "    \n",
    "    dx = 1.5 * hex_size + spacing  # Horizontal spacing between columns\n",
    "    dy = np.sqrt(3) * hex_size / 2  # Vertical height of a hexagon\n",
    "\n",
    "    for i, color in enumerate(hex_colors):\n",
    "        x_center = i * dx\n",
    "        # Offset every other hexagon vertically\n",
    "        y_center = dy if i % 2 == 1 else 0\n",
    "\n",
    "        x_hex, y_hex = hexagon_points(x_center, y_center, hex_size)\n",
    "        \n",
    "        fig.add_trace(go.Scatter(\n",
    "            x=x_hex, y=y_hex,\n",
    "            fill=\"toself\",\n",
    "            mode=\"lines\",\n",
    "            line=dict(color=\"black\"),\n",
    "            fillcolor=color,\n",
    "            hoverinfo=\"skip\"\n",
    "        ))\n",
    "\n",
    "    fig.update_layout(\n",
    "        showlegend=False,\n",
    "        xaxis=dict(visible=False),\n",
    "        yaxis=dict(visible=False, scaleanchor=\"x\"),  # keep aspect ratio square\n",
    "        margin=dict(l=0, r=0, t=0, b=0),\n",
    "        plot_bgcolor=\"white\",\n",
    "        width=int(len(hex_colors) * dx),\n",
    "        height=int(2 * dy + hex_size)\n",
    "    )\n",
    "\n",
    "    fig.show()\n",
    "\n",
    "# Example usage\n",
    "\n",
    "\n",
    "hex_colors = [\n",
    "\n",
    "  \"#4E79C5\",\n",
    "  \"#60AB9E\",\n",
    "  \"#69B190\",\n",
    "  \"#77B77D\",\n",
    "  \"#8CBC68\",\n",
    "  \"#A6BE54\",\n",
    "  \"#BEBC48\",\n",
    "  \"#D1B541\",\n",
    "  \"#DDAA3C\",\n",
    "  \"#E49C39\",\n",
    "  \"#E78C35\",\n",
    "  \"#E67932\",\n",
    "  \"#E4632D\",\n",
    "  \"#DF4828\",\n",
    "  \"#DA2222\",\n",
    "  \"#B8221E\",\n",
    "  \"#95211B\",\n",
    "  \"#721E17\",\n",
    "  \"#521A13\"\n",
    "]\n",
    "plot_interlocking_hex_palette(hex_colors)\n"
   ]
  },
  {
   "cell_type": "code",
   "execution_count": null,
   "metadata": {},
   "outputs": [],
   "source": [
    "const hexColors1 = [\n",
    "  \"#59a14f\",\n",
    "  \"#bab0ac\",\n",
    "  \"#76b7b2\",\n",
    "  \"#9c755f\",\n",
    "  \"#e15759\",\n",
    "  \"#ff9da7\",\n",
    "  \"#f28e2b\",\n",
    "  \"#b07aa1\",\n",
    "  \"#4e79a7\",\n",
    "  \"#edc948\"\n",
    "];\n",
    "\n",
    "const hexColors2 = [\n",
    "  \"#303030\",\n",
    "  \"#009e74\",\n",
    "  \"#0071b2\",\n",
    "  \"#56b3e9\",\n",
    "  \"#f0e442\",\n",
    "  \"#e69f00\",\n",
    "  \"#d55c00\",\n",
    "  \"#cc79a7\"\n",
    "];\n",
    "\n",
    "const paulTolMuted = [\n",
    "  \"#dddddd\",\n",
    "  \"#2f2585\",\n",
    "  \"#337539\",\n",
    "  \"#5da899\",\n",
    "  \"#94caec\",\n",
    "  \"#dcce7d\",\n",
    "  \"#c36a77\",\n",
    "  \"#9f4a97\",\n",
    "  \"#7e2954\"\n",
    "];\n",
    "\n",
    "const hexColors3 = [\n",
    "  \"#dddddd\",\n",
    "  \"#aaaa00\",\n",
    "  \"#bbcc33\",\n",
    "  \"#44bb99\",\n",
    "  \"#99ddff\",\n",
    "  \"#ffaabb\",\n",
    "  \"#eedd88\",\n",
    "  \"#ee8866\",\n",
    "  \"#77aadd\"\n",
    "];\n",
    "\n",
    "const paulTolRainbow = [\n",
    "  \"#6F4C9B\",\n",
    "  \"#\n"
   ]
  },
  {
   "cell_type": "code",
   "execution_count": null,
   "metadata": {},
   "outputs": [
    {
     "data": {
      "application/vnd.plotly.v1+json": {
       "config": {
        "plotlyServerURL": "https://plot.ly"
       },
       "data": [
        {
         "hovertemplate": "x=%{x}<br>y=%{y}<extra></extra>",
         "legendgroup": "",
         "marker": {
          "color": "#636efa",
          "pattern": {
           "shape": ""
          }
         },
         "name": "",
         "orientation": "v",
         "showlegend": false,
         "textposition": "auto",
         "type": "bar",
         "x": [
          "a",
          "b",
          "c"
         ],
         "xaxis": "x",
         "y": {
          "bdata": "AQMC",
          "dtype": "i1"
         },
         "yaxis": "y"
        }
       ],
       "layout": {
        "barmode": "relative",
        "legend": {
         "tracegroupgap": 0
        },
        "margin": {
         "t": 60
        },
        "template": {
         "data": {
          "bar": [
           {
            "error_x": {
             "color": "#2a3f5f"
            },
            "error_y": {
             "color": "#2a3f5f"
            },
            "marker": {
             "line": {
              "color": "#E5ECF6",
              "width": 0.5
             },
             "pattern": {
              "fillmode": "overlay",
              "size": 10,
              "solidity": 0.2
             }
            },
            "type": "bar"
           }
          ],
          "barpolar": [
           {
            "marker": {
             "line": {
              "color": "#E5ECF6",
              "width": 0.5
             },
             "pattern": {
              "fillmode": "overlay",
              "size": 10,
              "solidity": 0.2
             }
            },
            "type": "barpolar"
           }
          ],
          "carpet": [
           {
            "aaxis": {
             "endlinecolor": "#2a3f5f",
             "gridcolor": "white",
             "linecolor": "white",
             "minorgridcolor": "white",
             "startlinecolor": "#2a3f5f"
            },
            "baxis": {
             "endlinecolor": "#2a3f5f",
             "gridcolor": "white",
             "linecolor": "white",
             "minorgridcolor": "white",
             "startlinecolor": "#2a3f5f"
            },
            "type": "carpet"
           }
          ],
          "choropleth": [
           {
            "colorbar": {
             "outlinewidth": 0,
             "ticks": ""
            },
            "type": "choropleth"
           }
          ],
          "contour": [
           {
            "colorbar": {
             "outlinewidth": 0,
             "ticks": ""
            },
            "colorscale": [
             [
              0,
              "#0d0887"
             ],
             [
              0.1111111111111111,
              "#46039f"
             ],
             [
              0.2222222222222222,
              "#7201a8"
             ],
             [
              0.3333333333333333,
              "#9c179e"
             ],
             [
              0.4444444444444444,
              "#bd3786"
             ],
             [
              0.5555555555555556,
              "#d8576b"
             ],
             [
              0.6666666666666666,
              "#ed7953"
             ],
             [
              0.7777777777777778,
              "#fb9f3a"
             ],
             [
              0.8888888888888888,
              "#fdca26"
             ],
             [
              1,
              "#f0f921"
             ]
            ],
            "type": "contour"
           }
          ],
          "contourcarpet": [
           {
            "colorbar": {
             "outlinewidth": 0,
             "ticks": ""
            },
            "type": "contourcarpet"
           }
          ],
          "heatmap": [
           {
            "colorbar": {
             "outlinewidth": 0,
             "ticks": ""
            },
            "colorscale": [
             [
              0,
              "#0d0887"
             ],
             [
              0.1111111111111111,
              "#46039f"
             ],
             [
              0.2222222222222222,
              "#7201a8"
             ],
             [
              0.3333333333333333,
              "#9c179e"
             ],
             [
              0.4444444444444444,
              "#bd3786"
             ],
             [
              0.5555555555555556,
              "#d8576b"
             ],
             [
              0.6666666666666666,
              "#ed7953"
             ],
             [
              0.7777777777777778,
              "#fb9f3a"
             ],
             [
              0.8888888888888888,
              "#fdca26"
             ],
             [
              1,
              "#f0f921"
             ]
            ],
            "type": "heatmap"
           }
          ],
          "histogram": [
           {
            "marker": {
             "pattern": {
              "fillmode": "overlay",
              "size": 10,
              "solidity": 0.2
             }
            },
            "type": "histogram"
           }
          ],
          "histogram2d": [
           {
            "colorbar": {
             "outlinewidth": 0,
             "ticks": ""
            },
            "colorscale": [
             [
              0,
              "#0d0887"
             ],
             [
              0.1111111111111111,
              "#46039f"
             ],
             [
              0.2222222222222222,
              "#7201a8"
             ],
             [
              0.3333333333333333,
              "#9c179e"
             ],
             [
              0.4444444444444444,
              "#bd3786"
             ],
             [
              0.5555555555555556,
              "#d8576b"
             ],
             [
              0.6666666666666666,
              "#ed7953"
             ],
             [
              0.7777777777777778,
              "#fb9f3a"
             ],
             [
              0.8888888888888888,
              "#fdca26"
             ],
             [
              1,
              "#f0f921"
             ]
            ],
            "type": "histogram2d"
           }
          ],
          "histogram2dcontour": [
           {
            "colorbar": {
             "outlinewidth": 0,
             "ticks": ""
            },
            "colorscale": [
             [
              0,
              "#0d0887"
             ],
             [
              0.1111111111111111,
              "#46039f"
             ],
             [
              0.2222222222222222,
              "#7201a8"
             ],
             [
              0.3333333333333333,
              "#9c179e"
             ],
             [
              0.4444444444444444,
              "#bd3786"
             ],
             [
              0.5555555555555556,
              "#d8576b"
             ],
             [
              0.6666666666666666,
              "#ed7953"
             ],
             [
              0.7777777777777778,
              "#fb9f3a"
             ],
             [
              0.8888888888888888,
              "#fdca26"
             ],
             [
              1,
              "#f0f921"
             ]
            ],
            "type": "histogram2dcontour"
           }
          ],
          "mesh3d": [
           {
            "colorbar": {
             "outlinewidth": 0,
             "ticks": ""
            },
            "type": "mesh3d"
           }
          ],
          "parcoords": [
           {
            "line": {
             "colorbar": {
              "outlinewidth": 0,
              "ticks": ""
             }
            },
            "type": "parcoords"
           }
          ],
          "pie": [
           {
            "automargin": true,
            "type": "pie"
           }
          ],
          "scatter": [
           {
            "fillpattern": {
             "fillmode": "overlay",
             "size": 10,
             "solidity": 0.2
            },
            "type": "scatter"
           }
          ],
          "scatter3d": [
           {
            "line": {
             "colorbar": {
              "outlinewidth": 0,
              "ticks": ""
             }
            },
            "marker": {
             "colorbar": {
              "outlinewidth": 0,
              "ticks": ""
             }
            },
            "type": "scatter3d"
           }
          ],
          "scattercarpet": [
           {
            "marker": {
             "colorbar": {
              "outlinewidth": 0,
              "ticks": ""
             }
            },
            "type": "scattercarpet"
           }
          ],
          "scattergeo": [
           {
            "marker": {
             "colorbar": {
              "outlinewidth": 0,
              "ticks": ""
             }
            },
            "type": "scattergeo"
           }
          ],
          "scattergl": [
           {
            "marker": {
             "colorbar": {
              "outlinewidth": 0,
              "ticks": ""
             }
            },
            "type": "scattergl"
           }
          ],
          "scattermap": [
           {
            "marker": {
             "colorbar": {
              "outlinewidth": 0,
              "ticks": ""
             }
            },
            "type": "scattermap"
           }
          ],
          "scattermapbox": [
           {
            "marker": {
             "colorbar": {
              "outlinewidth": 0,
              "ticks": ""
             }
            },
            "type": "scattermapbox"
           }
          ],
          "scatterpolar": [
           {
            "marker": {
             "colorbar": {
              "outlinewidth": 0,
              "ticks": ""
             }
            },
            "type": "scatterpolar"
           }
          ],
          "scatterpolargl": [
           {
            "marker": {
             "colorbar": {
              "outlinewidth": 0,
              "ticks": ""
             }
            },
            "type": "scatterpolargl"
           }
          ],
          "scatterternary": [
           {
            "marker": {
             "colorbar": {
              "outlinewidth": 0,
              "ticks": ""
             }
            },
            "type": "scatterternary"
           }
          ],
          "surface": [
           {
            "colorbar": {
             "outlinewidth": 0,
             "ticks": ""
            },
            "colorscale": [
             [
              0,
              "#0d0887"
             ],
             [
              0.1111111111111111,
              "#46039f"
             ],
             [
              0.2222222222222222,
              "#7201a8"
             ],
             [
              0.3333333333333333,
              "#9c179e"
             ],
             [
              0.4444444444444444,
              "#bd3786"
             ],
             [
              0.5555555555555556,
              "#d8576b"
             ],
             [
              0.6666666666666666,
              "#ed7953"
             ],
             [
              0.7777777777777778,
              "#fb9f3a"
             ],
             [
              0.8888888888888888,
              "#fdca26"
             ],
             [
              1,
              "#f0f921"
             ]
            ],
            "type": "surface"
           }
          ],
          "table": [
           {
            "cells": {
             "fill": {
              "color": "#EBF0F8"
             },
             "line": {
              "color": "white"
             }
            },
            "header": {
             "fill": {
              "color": "#C8D4E3"
             },
             "line": {
              "color": "white"
             }
            },
            "type": "table"
           }
          ]
         },
         "layout": {
          "annotationdefaults": {
           "arrowcolor": "#2a3f5f",
           "arrowhead": 0,
           "arrowwidth": 1
          },
          "autotypenumbers": "strict",
          "coloraxis": {
           "colorbar": {
            "outlinewidth": 0,
            "ticks": ""
           }
          },
          "colorscale": {
           "diverging": [
            [
             0,
             "#8e0152"
            ],
            [
             0.1,
             "#c51b7d"
            ],
            [
             0.2,
             "#de77ae"
            ],
            [
             0.3,
             "#f1b6da"
            ],
            [
             0.4,
             "#fde0ef"
            ],
            [
             0.5,
             "#f7f7f7"
            ],
            [
             0.6,
             "#e6f5d0"
            ],
            [
             0.7,
             "#b8e186"
            ],
            [
             0.8,
             "#7fbc41"
            ],
            [
             0.9,
             "#4d9221"
            ],
            [
             1,
             "#276419"
            ]
           ],
           "sequential": [
            [
             0,
             "#0d0887"
            ],
            [
             0.1111111111111111,
             "#46039f"
            ],
            [
             0.2222222222222222,
             "#7201a8"
            ],
            [
             0.3333333333333333,
             "#9c179e"
            ],
            [
             0.4444444444444444,
             "#bd3786"
            ],
            [
             0.5555555555555556,
             "#d8576b"
            ],
            [
             0.6666666666666666,
             "#ed7953"
            ],
            [
             0.7777777777777778,
             "#fb9f3a"
            ],
            [
             0.8888888888888888,
             "#fdca26"
            ],
            [
             1,
             "#f0f921"
            ]
           ],
           "sequentialminus": [
            [
             0,
             "#0d0887"
            ],
            [
             0.1111111111111111,
             "#46039f"
            ],
            [
             0.2222222222222222,
             "#7201a8"
            ],
            [
             0.3333333333333333,
             "#9c179e"
            ],
            [
             0.4444444444444444,
             "#bd3786"
            ],
            [
             0.5555555555555556,
             "#d8576b"
            ],
            [
             0.6666666666666666,
             "#ed7953"
            ],
            [
             0.7777777777777778,
             "#fb9f3a"
            ],
            [
             0.8888888888888888,
             "#fdca26"
            ],
            [
             1,
             "#f0f921"
            ]
           ]
          },
          "colorway": [
           "#636efa",
           "#EF553B",
           "#00cc96",
           "#ab63fa",
           "#FFA15A",
           "#19d3f3",
           "#FF6692",
           "#B6E880",
           "#FF97FF",
           "#FECB52"
          ],
          "font": {
           "color": "#2a3f5f"
          },
          "geo": {
           "bgcolor": "white",
           "lakecolor": "white",
           "landcolor": "#E5ECF6",
           "showlakes": true,
           "showland": true,
           "subunitcolor": "white"
          },
          "hoverlabel": {
           "align": "left"
          },
          "hovermode": "closest",
          "mapbox": {
           "style": "light"
          },
          "paper_bgcolor": "white",
          "plot_bgcolor": "#E5ECF6",
          "polar": {
           "angularaxis": {
            "gridcolor": "white",
            "linecolor": "white",
            "ticks": ""
           },
           "bgcolor": "#E5ECF6",
           "radialaxis": {
            "gridcolor": "white",
            "linecolor": "white",
            "ticks": ""
           }
          },
          "scene": {
           "xaxis": {
            "backgroundcolor": "#E5ECF6",
            "gridcolor": "white",
            "gridwidth": 2,
            "linecolor": "white",
            "showbackground": true,
            "ticks": "",
            "zerolinecolor": "white"
           },
           "yaxis": {
            "backgroundcolor": "#E5ECF6",
            "gridcolor": "white",
            "gridwidth": 2,
            "linecolor": "white",
            "showbackground": true,
            "ticks": "",
            "zerolinecolor": "white"
           },
           "zaxis": {
            "backgroundcolor": "#E5ECF6",
            "gridcolor": "white",
            "gridwidth": 2,
            "linecolor": "white",
            "showbackground": true,
            "ticks": "",
            "zerolinecolor": "white"
           }
          },
          "shapedefaults": {
           "line": {
            "color": "#2a3f5f"
           }
          },
          "ternary": {
           "aaxis": {
            "gridcolor": "white",
            "linecolor": "white",
            "ticks": ""
           },
           "baxis": {
            "gridcolor": "white",
            "linecolor": "white",
            "ticks": ""
           },
           "bgcolor": "#E5ECF6",
           "caxis": {
            "gridcolor": "white",
            "linecolor": "white",
            "ticks": ""
           }
          },
          "title": {
           "x": 0.05
          },
          "xaxis": {
           "automargin": true,
           "gridcolor": "white",
           "linecolor": "white",
           "ticks": "",
           "title": {
            "standoff": 15
           },
           "zerolinecolor": "white",
           "zerolinewidth": 2
          },
          "yaxis": {
           "automargin": true,
           "gridcolor": "white",
           "linecolor": "white",
           "ticks": "",
           "title": {
            "standoff": 15
           },
           "zerolinecolor": "white",
           "zerolinewidth": 2
          }
         }
        },
        "xaxis": {
         "anchor": "y",
         "domain": [
          0,
          1
         ],
         "title": {
          "text": "x"
         }
        },
        "yaxis": {
         "anchor": "x",
         "domain": [
          0,
          1
         ],
         "title": {
          "text": "y"
         }
        }
       }
      }
     },
     "metadata": {},
     "output_type": "display_data"
    }
   ],
   "source": [
    "fig = px.bar(x=[\"a\", \"b\", \"c\"], y=[1, 3, 2])\n",
    "fig.show()"
   ]
  },
  {
   "cell_type": "code",
   "execution_count": 5,
   "metadata": {},
   "outputs": [
    {
     "data": {
      "image/png": "[encoded data removed]",
      "text/plain": [
       "<PIL.PngImagePlugin.PngImageFile image mode=P size=750x759>"
      ]
     },
     "metadata": {},
     "output_type": "display_data"
    }
   ],
   "source": [
    "# creating a object \n",
    "im = Image.open(r\"images\\SugarMapleLeaf.png\") \n",
    " \n",
    "display(im)"
   ]
  },
  {
   "cell_type": "code",
   "execution_count": 15,
   "metadata": {},
   "outputs": [
    {
     "data": {
      "text/plain": [
       "750"
      ]
     },
     "execution_count": 15,
     "metadata": {},
     "output_type": "execute_result"
    }
   ],
   "source": [
    "im.height\n",
    "im.width"
   ]
  },
  {
   "cell_type": "code",
   "execution_count": null,
   "metadata": {},
   "outputs": [],
   "source": []
  }
 ],
 "metadata": {
  "kernelspec": {
   "display_name": "image-to-point-cloud-7BYqoMJ9-py3.13",
   "language": "python",
   "name": "python3"
  },
  "language_info": {
   "codemirror_mode": {
    "name": "ipython",
    "version": 3
   },
   "file_extension": ".py",
   "mimetype": "text/x-python",
   "name": "python",
   "nbconvert_exporter": "python",
   "pygments_lexer": "ipython3",
   "version": "3.13.3"
  }
 },
 "nbformat": 4,
 "nbformat_minor": 2
}
