{
 "cells": [
  {
   "cell_type": "markdown",
   "metadata": {},
   "source": [
    "# Making Cool Visualizations from Images\n",
    "\n"
   ]
  },
  {
   "cell_type": "markdown",
   "metadata": {},
   "source": [
    "## Imports\n"
   ]
  },
  {
   "cell_type": "markdown",
   "metadata": {},
   "source": [
    "Pandas is an all-purpose package for working with tables. \n",
    "\n",
    "Plotly is my favorite chart-builder for python. However, MatplotLib and Seaborn can do the exact same things! It is here to preview our data before we bring it into Tableau. \n",
    "\n",
    "PIL (Python Image Library, otherwise known as Pillow) allows us to manipulate images.\n",
    "\n",
    "NumPy is for math. "
   ]
  },
  {
   "cell_type": "code",
   "execution_count": 2,
   "metadata": {},
   "outputs": [],
   "source": [
    "import pandas as pd\n",
    "import plotly.express as px\n",
    "from PIL import Image\n",
    "import numpy as np"
   ]
  },
  {
   "cell_type": "markdown",
   "metadata": {},
   "source": [
    "# Loading our Image\n",
    "\n",
    "We'll start by using PIL to display our image, just to confirm that we have the right PNG. "
   ]
  },
  {
   "cell_type": "code",
   "execution_count": 3,
   "metadata": {},
   "outputs": [
    {
     "data": {
      "image/png": "[encoded data removed]",
      "text/plain": [
       "<PIL.PngImagePlugin.PngImageFile image mode=P size=750x759>"
      ]
     },
     "metadata": {},
     "output_type": "display_data"
    }
   ],
   "source": [
    "im = Image.open(r\"images\\SugarMapleLeaf.png\") \n",
    " \n",
    "display(im)"
   ]
  },
  {
   "cell_type": "markdown",
   "metadata": {},
   "source": [
    "With our image loaded, we can easily access the height and width of the image."
   ]
  },
  {
   "cell_type": "code",
   "execution_count": 15,
   "metadata": {},
   "outputs": [
    {
     "data": {
      "text/plain": [
       "750"
      ]
     },
     "execution_count": 15,
     "metadata": {},
     "output_type": "execute_result"
    }
   ],
   "source": [
    "im.height\n",
    "im.width"
   ]
  },
  {
   "cell_type": "code",
   "execution_count": null,
   "metadata": {},
   "outputs": [],
   "source": [
    "def image_to_point_cloud(image_path: str, num_points: int):\n",
    "    \"\"\"\n",
    "    Converts a black-and-white image to a 2D point cloud with a given number of points.\n",
    "\n",
    "    Returns:\n",
    "        pd.DataFrame: DataFrame with 'x' and 'y' coordinates of sampled points.\n",
    "    \"\"\"\n",
    "    img = Image.open(image_path)\n",
    "    #grad witdth and height of\n",
    "    width, height = img.size\n",
    "    img_array = np.asarray(img)\n",
    "\n",
    "    # generate coordinate grid\n",
    "    y_coords, x_coords = np.indices((height, width))\n",
    "    flat_x = x_coords.flatten()\n",
    "    flat_y = y_coords.flatten()\n",
    "    flat_intensity = img_array.flatten()\n",
    "\n",
    "    # invert brightness for sampling probability (darker = higher weight)\n",
    "    probabilities = 255 - flat_intensity\n",
    "    probabilities = probabilities / probabilities.sum()\n",
    "\n",
    "    # sample points based on brightness-weighted probabilities\n",
    "    indices = np.random.choice(\n",
    "        len(flat_x), size=num_points, replace=False, p=probabilities\n",
    "    )\n",
    "\n",
    "    # Create dataFrame of points\n",
    "    df = pd.DataFrame({\n",
    "        'x': flat_x[indices],\n",
    "        'y': height - flat_y[indices]  # flip y-axis for correct orientation\n",
    "    })\n",
    "\n",
    "    return df\n",
    "\n",
    "def plot_point_cloud(df: pd.DataFrame):\n",
    "    fig = px.scatter(df, x='x', y='y', width=800, height=800)\n",
    "    fig.update_traces(marker=dict(size=2))\n",
    "    fig.update_layout(yaxis=dict(scaleanchor=\"x\", scaleratio=1))\n",
    "    fig.show()"
   ]
  },
  {
   "cell_type": "code",
   "execution_count": 7,
   "metadata": {},
   "outputs": [
    {
     "name": "stderr",
     "output_type": "stream",
     "text": [
      "<>:1: SyntaxWarning:\n",
      "\n",
      "invalid escape sequence '\\S'\n",
      "\n",
      "<>:1: SyntaxWarning:\n",
      "\n",
      "invalid escape sequence '\\S'\n",
      "\n",
      "C:\\Users\\Miles\\AppData\\Local\\Temp\\ipykernel_25472\\3537565883.py:1: SyntaxWarning:\n",
      "\n",
      "invalid escape sequence '\\S'\n",
      "\n"
     ]
    },
    {
     "data": {
      "application/vnd.plotly.v1+json": {
       "config": {
        "plotlyServerURL": "https://plot.ly"
       },
       "data": [
        {
         "hovertemplate": "x=%{x}<br>y=%{y}<extra></extra>",
         "legendgroup": "",
         "marker": {
          "color": "#636efa",
          "size": 2,
          "symbol": "circle"
         },
         "mode": "markers",
         "name": "",
         "orientation": "v",
         "showlegend": false,
         "type": "scatter",
         "x": {
          "bdata": "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",
          "dtype": "i2"
         },
         "xaxis": "x",
         "y": {
          "bdata": "3wKHAPYBxQCgAk8CcwAmADkBTQDyAlQA3QJ+AJ0ALwH8Af0A7AIZABYAnwAsAKoCKgDgAUcA2AHDAb8APAAhABoBggJxAkYBFACcAT0BZQFGAIUCrAI0AbcBvwDEAXIBbwACAbgAsgA2AJYClQD6ATUBEQKlAcoBLwLXAHcATgIaAbMATQEcAmECTAJ8AhoAdALYArYAigHuAKkBXACNAvcChgEBANYCNADHAdUCWAB7AQwCCwAQADgC5wKgAJgAigEuAMcCWAJMABUCswHDAEEA1AEqAskBdQHbAPMApAL5AOcBCgEZAUkBaAKqAX4BUwIpAncC0AE9AF4AhAGkAmgCwwE2AAsBkgGzAfsBmwDiAqkA1gDzAvYAZQLBATABNQHzAg4CuAGCAF4AtgAGAWcB3QDbACQB6QHiAWwBjgF8ALUBJQKQArgBPgI2AHAB+ADyAioCsQIzAe0APgD6ADYC9wGDAEMBGQFQAQgC1AFGAHwARwCiAjMASAIWArQCNgILAVAB1gD7AWAB4gGrAkAAEgCWAkoCcwHHAnoAdgIeAqwBtAGMABMAMgFGAGYBdAClArsBLwCUAFEC0gGSAlgCvQGVAvQAfwAuAfEBWAFvAA0BowHvAmcB7QIoAVoCTwCdAJECygITAt8ATgLMAHwAhQGOABgBHQGFABgBIQEDAWIClQKEAaYC3gBrAO0CSQLNAAYApQHWAqMA/gFJAmcAkgELAYICdAC0AR4BNgChAXUBogFUAIwAFQJyAOwA8wJEAoIAVQBxAcIADwBwAJgC2AAvAiQAJAKoAlwBMgHeAf8A9gF+AeMBtgCdAokBvwGgAnAB6QKsAj4CEwERAXIBwwHRAIYCxgLuANcBwgJeAAABjAAYAKsBOAKbAW8CkwHMAhMBXgHIAj8ACQHfAe0BMAEaAqQAuwJuAtwAmwGbAtoCBQBzAcsCKwJmAUABLAGtAucAQABzABcCygCAAtsBjgLVAYkCswDYARkCoQF+AiMA3QE0AAQB9QB9ATAADQECAkwARwLnASwCRgH3AkQBbAEUAbABDgBLAHkBSgAiACABLwHNAuYAhQDLAbwCdgK5AkwBnwEMAOUBOgLQAO4B5gH1AMkCSgKvAGQBsQKhAEACfgEkAiQBbgGMAeICVQDzAOQBXQHoAOkBBQEEAF4AcQIvAY0CWgLJAp8AFAA0Aq0ASgFtAsgCPAEnAuYBYwGwAQIClwI0AJkApQGlAZwAfQGMAkQBZADsAuMACAAjAT4ATAL6AGMBSAKKACUCbgAhAC4AhAGIAhQB+wCsAgYCtQCpAJMB6QIvAo8BbQFxAm0B0QDvAZsAaQITAAgCTgEdAe8CaAAIAX0BvwLtARgAjQCGAlMAMAJIAPkBwgGUAdICywBvAYUCGQBUAosCCQFDAXgAXwIlAZYCUQIRArEBCQIaAo0CsAHKAQ0BRAEqAdACAgDqAE0CgQDmATACLwAMAqoAbQBeArYAowFjAMAAxAAkAtcBDwDaAHUBCwG+AEUCKACdAkIBTgAmApAB3ALIAn4BIQInAEkB2QD2AjwBHwHrAosChwHFAHwAAAG0AqwBZQGZAgoBnQBtAakA2gAsADMCsQHuAU8CNwAfAtwCBQGNAfEBLAHtArcCUQBLAvYCbQB8AWACQAEFAXAB9wHWAQkB+wHpAvQAGQD3AJACGQFoAdABDwLLAEkCwAF4ATYC0gFLAaAB6gCCAnkCEwLvAgsAywBIAL4ACwJRAQoB7gKeANIBoAFsAeQBlwJHAT4BNwGVAkYAtgFtAS8CwACiAAsBUwAGAIEB3gCoAmwAhQCEAlkA1wC2AqcBXQCMAocCAQARAF8BOwKQALEAdwAeAaICLQLGAoECIAIrAoMBHwK1AaYCCgLwAZ8BVQKQAdsCqQFLAnYBHAF4AUgCvAJSACQAyQH8AIsB9QCQAD8AgAJeAcEAQAF9AbwCagC7AEQBEgIRAVsApwIkAF0CHwAPAj8CzgARAL8AyABjAi0ABgHyArQAEgBCAOkAfgK9AhsA5ACKAh0A+AAiAWsAdAE7AQYAswGxAdoAAgIRAV0CdQEMANoA0ACDAuUA2wAmAXICHgFVAmECTADHAkMBDgA1AbMBlAJCAbwB+gArAhIC3gH1AaMCaQJ6Aj0C0AJHANQAOwKxAscCNwKCAgsCFgKNAIEAfgKEAV8AcAEOApoB6wJsAGQBzwHYAV0BSAAzAt4C7QFVAYIBoQFaASABKwAmAoYCXQAOArMCZAK/ALICEAJfALwCnQFBAgoAhAJpAoIA8QLVAToCRQBiAMIAQgBgAVgCLgCfALEBOgAmAA0BBABDAYoBfAHDAn8BFQAjArgAWgBmAe4AOQGDAZsBtQA9AQ0CXQLJAF0AtAIxAEABbgE8AsEBZAIfAo4AuAKcARIBBgAIApABCgCCAf4A3wHkAWwAeACyAsYC6wFrAM0CQgHSAi4BxAD5AKECPgC0AKcAxAJQACUBOgLhAJACKADjAIIA/ABvAecB6gA2AoMB9wDOAZ8A5gJZAbIBWwBqAV0AMwKzAhYCBAE2ATIArgAyAeAACwLDAVoCfAAuAvUCIAJoASAA5QCkAboCywHGAdYAuQAqAWwCOAG1AowC9gGPAHkBpgLYAUoC9wDyAnUAswJ9AQoAKQDJAe4CEgI=",
          "dtype": "i2"
         },
         "yaxis": "y"
        }
       ],
       "layout": {
        "height": 800,
        "legend": {
         "tracegroupgap": 0
        },
        "margin": {
         "t": 60
        },
        "template": {
         "data": {
          "bar": [
           {
            "error_x": {
             "color": "#2a3f5f"
            },
            "error_y": {
             "color": "#2a3f5f"
            },
            "marker": {
             "line": {
              "color": "#E5ECF6",
              "width": 0.5
             },
             "pattern": {
              "fillmode": "overlay",
              "size": 10,
              "solidity": 0.2
             }
            },
            "type": "bar"
           }
          ],
          "barpolar": [
           {
            "marker": {
             "line": {
              "color": "#E5ECF6",
              "width": 0.5
             },
             "pattern": {
              "fillmode": "overlay",
              "size": 10,
              "solidity": 0.2
             }
            },
            "type": "barpolar"
           }
          ],
          "carpet": [
           {
            "aaxis": {
             "endlinecolor": "#2a3f5f",
             "gridcolor": "white",
             "linecolor": "white",
             "minorgridcolor": "white",
             "startlinecolor": "#2a3f5f"
            },
            "baxis": {
             "endlinecolor": "#2a3f5f",
             "gridcolor": "white",
             "linecolor": "white",
             "minorgridcolor": "white",
             "startlinecolor": "#2a3f5f"
            },
            "type": "carpet"
           }
          ],
          "choropleth": [
           {
            "colorbar": {
             "outlinewidth": 0,
             "ticks": ""
            },
            "type": "choropleth"
           }
          ],
          "contour": [
           {
            "colorbar": {
             "outlinewidth": 0,
             "ticks": ""
            },
            "colorscale": [
             [
              0,
              "#0d0887"
             ],
             [
              0.1111111111111111,
              "#46039f"
             ],
             [
              0.2222222222222222,
              "#7201a8"
             ],
             [
              0.3333333333333333,
              "#9c179e"
             ],
             [
              0.4444444444444444,
              "#bd3786"
             ],
             [
              0.5555555555555556,
              "#d8576b"
             ],
             [
              0.6666666666666666,
              "#ed7953"
             ],
             [
              0.7777777777777778,
              "#fb9f3a"
             ],
             [
              0.8888888888888888,
              "#fdca26"
             ],
             [
              1,
              "#f0f921"
             ]
            ],
            "type": "contour"
           }
          ],
          "contourcarpet": [
           {
            "colorbar": {
             "outlinewidth": 0,
             "ticks": ""
            },
            "type": "contourcarpet"
           }
          ],
          "heatmap": [
           {
            "colorbar": {
             "outlinewidth": 0,
             "ticks": ""
            },
            "colorscale": [
             [
              0,
              "#0d0887"
             ],
             [
              0.1111111111111111,
              "#46039f"
             ],
             [
              0.2222222222222222,
              "#7201a8"
             ],
             [
              0.3333333333333333,
              "#9c179e"
             ],
             [
              0.4444444444444444,
              "#bd3786"
             ],
             [
              0.5555555555555556,
              "#d8576b"
             ],
             [
              0.6666666666666666,
              "#ed7953"
             ],
             [
              0.7777777777777778,
              "#fb9f3a"
             ],
             [
              0.8888888888888888,
              "#fdca26"
             ],
             [
              1,
              "#f0f921"
             ]
            ],
            "type": "heatmap"
           }
          ],
          "histogram": [
           {
            "marker": {
             "pattern": {
              "fillmode": "overlay",
              "size": 10,
              "solidity": 0.2
             }
            },
            "type": "histogram"
           }
          ],
          "histogram2d": [
           {
            "colorbar": {
             "outlinewidth": 0,
             "ticks": ""
            },
            "colorscale": [
             [
              0,
              "#0d0887"
             ],
             [
              0.1111111111111111,
              "#46039f"
             ],
             [
              0.2222222222222222,
              "#7201a8"
             ],
             [
              0.3333333333333333,
              "#9c179e"
             ],
             [
              0.4444444444444444,
              "#bd3786"
             ],
             [
              0.5555555555555556,
              "#d8576b"
             ],
             [
              0.6666666666666666,
              "#ed7953"
             ],
             [
              0.7777777777777778,
              "#fb9f3a"
             ],
             [
              0.8888888888888888,
              "#fdca26"
             ],
             [
              1,
              "#f0f921"
             ]
            ],
            "type": "histogram2d"
           }
          ],
          "histogram2dcontour": [
           {
            "colorbar": {
             "outlinewidth": 0,
             "ticks": ""
            },
            "colorscale": [
             [
              0,
              "#0d0887"
             ],
             [
              0.1111111111111111,
              "#46039f"
             ],
             [
              0.2222222222222222,
              "#7201a8"
             ],
             [
              0.3333333333333333,
              "#9c179e"
             ],
             [
              0.4444444444444444,
              "#bd3786"
             ],
             [
              0.5555555555555556,
              "#d8576b"
             ],
             [
              0.6666666666666666,
              "#ed7953"
             ],
             [
              0.7777777777777778,
              "#fb9f3a"
             ],
             [
              0.8888888888888888,
              "#fdca26"
             ],
             [
              1,
              "#f0f921"
             ]
            ],
            "type": "histogram2dcontour"
           }
          ],
          "mesh3d": [
           {
            "colorbar": {
             "outlinewidth": 0,
             "ticks": ""
            },
            "type": "mesh3d"
           }
          ],
          "parcoords": [
           {
            "line": {
             "colorbar": {
              "outlinewidth": 0,
              "ticks": ""
             }
            },
            "type": "parcoords"
           }
          ],
          "pie": [
           {
            "automargin": true,
            "type": "pie"
           }
          ],
          "scatter": [
           {
            "fillpattern": {
             "fillmode": "overlay",
             "size": 10,
             "solidity": 0.2
            },
            "type": "scatter"
           }
          ],
          "scatter3d": [
           {
            "line": {
             "colorbar": {
              "outlinewidth": 0,
              "ticks": ""
             }
            },
            "marker": {
             "colorbar": {
              "outlinewidth": 0,
              "ticks": ""
             }
            },
            "type": "scatter3d"
           }
          ],
          "scattercarpet": [
           {
            "marker": {
             "colorbar": {
              "outlinewidth": 0,
              "ticks": ""
             }
            },
            "type": "scattercarpet"
           }
          ],
          "scattergeo": [
           {
            "marker": {
             "colorbar": {
              "outlinewidth": 0,
              "ticks": ""
             }
            },
            "type": "scattergeo"
           }
          ],
          "scattergl": [
           {
            "marker": {
             "colorbar": {
              "outlinewidth": 0,
              "ticks": ""
             }
            },
            "type": "scattergl"
           }
          ],
          "scattermap": [
           {
            "marker": {
             "colorbar": {
              "outlinewidth": 0,
              "ticks": ""
             }
            },
            "type": "scattermap"
           }
          ],
          "scattermapbox": [
           {
            "marker": {
             "colorbar": {
              "outlinewidth": 0,
              "ticks": ""
             }
            },
            "type": "scattermapbox"
           }
          ],
          "scatterpolar": [
           {
            "marker": {
             "colorbar": {
              "outlinewidth": 0,
              "ticks": ""
             }
            },
            "type": "scatterpolar"
           }
          ],
          "scatterpolargl": [
           {
            "marker": {
             "colorbar": {
              "outlinewidth": 0,
              "ticks": ""
             }
            },
            "type": "scatterpolargl"
           }
          ],
          "scatterternary": [
           {
            "marker": {
             "colorbar": {
              "outlinewidth": 0,
              "ticks": ""
             }
            },
            "type": "scatterternary"
           }
          ],
          "surface": [
           {
            "colorbar": {
             "outlinewidth": 0,
             "ticks": ""
            },
            "colorscale": [
             [
              0,
              "#0d0887"
             ],
             [
              0.1111111111111111,
              "#46039f"
             ],
             [
              0.2222222222222222,
              "#7201a8"
             ],
             [
              0.3333333333333333,
              "#9c179e"
             ],
             [
              0.4444444444444444,
              "#bd3786"
             ],
             [
              0.5555555555555556,
              "#d8576b"
             ],
             [
              0.6666666666666666,
              "#ed7953"
             ],
             [
              0.7777777777777778,
              "#fb9f3a"
             ],
             [
              0.8888888888888888,
              "#fdca26"
             ],
             [
              1,
              "#f0f921"
             ]
            ],
            "type": "surface"
           }
          ],
          "table": [
           {
            "cells": {
             "fill": {
              "color": "#EBF0F8"
             },
             "line": {
              "color": "white"
             }
            },
            "header": {
             "fill": {
              "color": "#C8D4E3"
             },
             "line": {
              "color": "white"
             }
            },
            "type": "table"
           }
          ]
         },
         "layout": {
          "annotationdefaults": {
           "arrowcolor": "#2a3f5f",
           "arrowhead": 0,
           "arrowwidth": 1
          },
          "autotypenumbers": "strict",
          "coloraxis": {
           "colorbar": {
            "outlinewidth": 0,
            "ticks": ""
           }
          },
          "colorscale": {
           "diverging": [
            [
             0,
             "#8e0152"
            ],
            [
             0.1,
             "#c51b7d"
            ],
            [
             0.2,
             "#de77ae"
            ],
            [
             0.3,
             "#f1b6da"
            ],
            [
             0.4,
             "#fde0ef"
            ],
            [
             0.5,
             "#f7f7f7"
            ],
            [
             0.6,
             "#e6f5d0"
            ],
            [
             0.7,
             "#b8e186"
            ],
            [
             0.8,
             "#7fbc41"
            ],
            [
             0.9,
             "#4d9221"
            ],
            [
             1,
             "#276419"
            ]
           ],
           "sequential": [
            [
             0,
             "#0d0887"
            ],
            [
             0.1111111111111111,
             "#46039f"
            ],
            [
             0.2222222222222222,
             "#7201a8"
            ],
            [
             0.3333333333333333,
             "#9c179e"
            ],
            [
             0.4444444444444444,
             "#bd3786"
            ],
            [
             0.5555555555555556,
             "#d8576b"
            ],
            [
             0.6666666666666666,
             "#ed7953"
            ],
            [
             0.7777777777777778,
             "#fb9f3a"
            ],
            [
             0.8888888888888888,
             "#fdca26"
            ],
            [
             1,
             "#f0f921"
            ]
           ],
           "sequentialminus": [
            [
             0,
             "#0d0887"
            ],
            [
             0.1111111111111111,
             "#46039f"
            ],
            [
             0.2222222222222222,
             "#7201a8"
            ],
            [
             0.3333333333333333,
             "#9c179e"
            ],
            [
             0.4444444444444444,
             "#bd3786"
            ],
            [
             0.5555555555555556,
             "#d8576b"
            ],
            [
             0.6666666666666666,
             "#ed7953"
            ],
            [
             0.7777777777777778,
             "#fb9f3a"
            ],
            [
             0.8888888888888888,
             "#fdca26"
            ],
            [
             1,
             "#f0f921"
            ]
           ]
          },
          "colorway": [
           "#636efa",
           "#EF553B",
           "#00cc96",
           "#ab63fa",
           "#FFA15A",
           "#19d3f3",
           "#FF6692",
           "#B6E880",
           "#FF97FF",
           "#FECB52"
          ],
          "font": {
           "color": "#2a3f5f"
          },
          "geo": {
           "bgcolor": "white",
           "lakecolor": "white",
           "landcolor": "#E5ECF6",
           "showlakes": true,
           "showland": true,
           "subunitcolor": "white"
          },
          "hoverlabel": {
           "align": "left"
          },
          "hovermode": "closest",
          "mapbox": {
           "style": "light"
          },
          "paper_bgcolor": "white",
          "plot_bgcolor": "#E5ECF6",
          "polar": {
           "angularaxis": {
            "gridcolor": "white",
            "linecolor": "white",
            "ticks": ""
           },
           "bgcolor": "#E5ECF6",
           "radialaxis": {
            "gridcolor": "white",
            "linecolor": "white",
            "ticks": ""
           }
          },
          "scene": {
           "xaxis": {
            "backgroundcolor": "#E5ECF6",
            "gridcolor": "white",
            "gridwidth": 2,
            "linecolor": "white",
            "showbackground": true,
            "ticks": "",
            "zerolinecolor": "white"
           },
           "yaxis": {
            "backgroundcolor": "#E5ECF6",
            "gridcolor": "white",
            "gridwidth": 2,
            "linecolor": "white",
            "showbackground": true,
            "ticks": "",
            "zerolinecolor": "white"
           },
           "zaxis": {
            "backgroundcolor": "#E5ECF6",
            "gridcolor": "white",
            "gridwidth": 2,
            "linecolor": "white",
            "showbackground": true,
            "ticks": "",
            "zerolinecolor": "white"
           }
          },
          "shapedefaults": {
           "line": {
            "color": "#2a3f5f"
           }
          },
          "ternary": {
           "aaxis": {
            "gridcolor": "white",
            "linecolor": "white",
            "ticks": ""
           },
           "baxis": {
            "gridcolor": "white",
            "linecolor": "white",
            "ticks": ""
           },
           "bgcolor": "#E5ECF6",
           "caxis": {
            "gridcolor": "white",
            "linecolor": "white",
            "ticks": ""
           }
          },
          "title": {
           "x": 0.05
          },
          "xaxis": {
           "automargin": true,
           "gridcolor": "white",
           "linecolor": "white",
           "ticks": "",
           "title": {
            "standoff": 15
           },
           "zerolinecolor": "white",
           "zerolinewidth": 2
          },
          "yaxis": {
           "automargin": true,
           "gridcolor": "white",
           "linecolor": "white",
           "ticks": "",
           "title": {
            "standoff": 15
           },
           "zerolinecolor": "white",
           "zerolinewidth": 2
          }
         }
        },
        "width": 800,
        "xaxis": {
         "anchor": "y",
         "domain": [
          0,
          1
         ],
         "title": {
          "text": "x"
         }
        },
        "yaxis": {
         "anchor": "x",
         "domain": [
          0,
          1
         ],
         "scaleanchor": "x",
         "scaleratio": 1,
         "title": {
          "text": "y"
         }
        }
       }
      }
     },
     "metadata": {},
     "output_type": "display_data"
    }
   ],
   "source": [
    "df = image_to_point_cloud(\"images\\SugarMapleLeaf.png\", num_points=1000)\n",
    "plot_point_cloud(df)"
   ]
  },
  {
   "cell_type": "code",
   "execution_count": null,
   "metadata": {},
   "outputs": [],
   "source": [
    "fig = px.scatter(\n",
    "        df,\n",
    "        x='x',\n",
    "        y='y',\n",
    "        width=800,\n",
    "        height=800\n",
    "    )\n",
    "    \n",
    "    fig.update_traces(marker=dict(\n",
    "        size=10,         # Large points\n",
    "        color='orange'   # Orange color\n",
    "    ))\n",
    "    \n",
    "    fig.update_layout(\n",
    "        yaxis=dict(\n",
    "            scaleanchor=\"x\",\n",
    "            scaleratio=1,\n",
    "            showgrid=False   # Remove y-axis grid lines\n",
    "        ),\n",
    "        xaxis=dict(\n",
    "            showgrid=False   # Remove x-axis grid lines\n",
    "        ),\n",
    "        plot_bgcolor='white',   # White plot background\n",
    "        paper_bgcolor='white'   # White paper background\n",
    "    )\n",
    "    \n",
    "    fig.show()"
   ]
  }
 ],
 "metadata": {
  "kernelspec": {
   "display_name": "image-to-point-cloud-7BYqoMJ9-py3.13",
   "language": "python",
   "name": "python3"
  },
  "language_info": {
   "codemirror_mode": {
    "name": "ipython",
    "version": 3
   },
   "file_extension": ".py",
   "mimetype": "text/x-python",
   "name": "python",
   "nbconvert_exporter": "python",
   "pygments_lexer": "ipython3",
   "version": "3.13.3"
  }
 },
 "nbformat": 4,
 "nbformat_minor": 2
}
